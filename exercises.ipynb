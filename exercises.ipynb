{
  "cells": [
    {
      "cell_type": "markdown",
      "id": "ded28f26",
      "metadata": {},
      "source": [
        "<font color='darkred'> Unless otherwise noted, **this notebook will not be reviewed or autograded.**</font> You are welcome to use it for scratchwork, but **only the files listed in the exercises will be checked.**\n",
        "\n",
        "---\n",
        "\n",
        "# Exercises\n",
        "\n",
        "For these exercises, you'll be creating a [Python class](https://www.hackerearth.com/practice/python/object-oriented-programming/classes-and-objects-i/tutorial/) in the *apputil.py* file.\n",
        "\n",
        "A few tips:\n",
        "\n",
        "- Some of these exercises will require some \"JSON digging\".\n",
        "- <font color='lightblue'>Your functions should still adhere to [best practices](https://codesignal.com/learn/courses/clean-code-basics-with-python/lessons/clean-function-design-in-python), so **your class should probably contain more functions than only the ones dictated below**.</font>\n"
      ]
    },
    {
      "cell_type": "markdown",
      "id": "951027e2",
      "metadata": {},
      "source": [
        "## Exercise 1\n",
        "\n",
        "Create a Python class named `Genius` such that the following code initializes the object, and \"saves\" the access token as an attribute of the object. You'll need to use this attribute for Exercises 2 and 3.\n",
        "\n",
        "```python\n",
        "from apputil import Genius\n",
        "\n",
        "genius = Genius(access_token=\"access_token\")\n",
        "```"
      ]
    },
    {
      "cell_type": "code",
      "execution_count": 1,
      "id": "8db32353",
      "metadata": {},
      "outputs": [
        {
          "name": "stdout",
          "output_type": "stream",
          "text": [
            "my_secret_token\n"
          ]
        }
      ],
      "source": [
        "from apputil import Genius\n",
        "\n",
        "genius = Genius(access_token=\"my_secret_token\")\n",
        "print(genius.access_token)\n"
      ]
    },
    {
      "cell_type": "code",
      "execution_count": 11,
      "id": "ecdd0935",
      "metadata": {},
      "outputs": [
        {
          "name": "stdout",
          "output_type": "stream",
          "text": [
            "Current working directory: /workspaces/week-6\n"
          ]
        }
      ],
      "source": [
        "import os\n",
        "print(\"Current working directory:\", os.getcwd())\n"
      ]
    },
    {
      "cell_type": "code",
      "execution_count": 14,
      "id": "db1ef6cf",
      "metadata": {},
      "outputs": [
        {
          "name": "stdout",
          "output_type": "stream",
          "text": [
            "['.devcontainer', 'lab-apis.ipynb', 'README.md', 'exercises.ipynb', 'env-1.env', '.git', '.gitignore', '.github', 'apputil.py', 'genius_api.py', '__pycache__', 'app.py']\n"
          ]
        }
      ],
      "source": [
        "import os\n",
        "print(os.listdir())\n"
      ]
    },
    {
      "cell_type": "markdown",
      "id": "bde62e8d",
      "metadata": {},
      "source": [
        "## Exercise 2\n",
        "\n",
        "Reference the `json_data` in the lab. Notice, when we search for an artist name (e.g., \"Missy Elliot\") in Genius, the result is a list of *songs* attributed to that artist. Suppose we want to capture information about the artist themselves.\n",
        "\n",
        "Create a method for our `Genius` class called `.get_artist(search_term)` which does the following:\n",
        "\n",
        "1. Extract the (most likely, \"Primary\") Artist ID from the first \"hit\" of the `search_term`.\n",
        "2. Use the [API path](https://docs.genius.com/#artists-h2) for this Artist ID to pull information about the artist.\n",
        "3. **Return** the dictionary containing the resulting JSON object.\n",
        "\n",
        "For example, the following code should return a dictionary of artist information:\n",
        "\n",
        "```python\n",
        "genius.get_artist(\"Radiohead\")\n",
        "```"
      ]
    },
    {
      "cell_type": "code",
      "execution_count": 17,
      "id": "33acff05",
      "metadata": {},
      "outputs": [
        {
          "name": "stdout",
          "output_type": "stream",
          "text": [
            "vw58dWIGES...\n"
          ]
        }
      ],
      "source": [
        "from dotenv import load_dotenv\n",
        "import os\n",
        "\n",
        "load_dotenv(dotenv_path=\"env-1.env\")  # explicitly load this file\n",
        "access_token = os.getenv(\"ACCESS_TOKEN\")\n",
        "\n",
        "print(access_token[:10] + \"...\")"
      ]
    },
    {
      "cell_type": "code",
      "execution_count": 18,
      "id": "f8c55d9b",
      "metadata": {},
      "outputs": [
        {
          "name": "stdout",
          "output_type": "stream",
          "text": [
            "dict_keys(['meta', 'response'])\n",
            "{'status': 200}\n"
          ]
        }
      ],
      "source": [
        "import requests\n",
        "\n",
        "search_term = \"Radiohead\"\n",
        "headers = {'Authorization': f'Bearer {access_token}'}\n",
        "search_url = f\"https://api.genius.com/search?q={search_term}\"\n",
        "\n",
        "response = requests.get(search_url, headers=headers)\n",
        "json_data = response.json()\n",
        "\n",
        "print(json_data.keys())\n",
        "print(json_data.get(\"meta\", {}))\n"
      ]
    },
    {
      "cell_type": "code",
      "execution_count": 19,
      "id": "0268042d",
      "metadata": {},
      "outputs": [
        {
          "name": "stdout",
          "output_type": "stream",
          "text": [
            "Artist ID: 604\n",
            "Artist Name: Radiohead\n"
          ]
        }
      ],
      "source": [
        "# Extract the first artist ID from the search results\n",
        "first_hit = json_data[\"response\"][\"hits\"][0]\n",
        "artist_id = first_hit[\"result\"][\"primary_artist\"][\"id\"]\n",
        "artist_name = first_hit[\"result\"][\"primary_artist\"][\"name\"]\n",
        "\n",
        "print(\"Artist ID:\", artist_id)\n",
        "print(\"Artist Name:\", artist_name)\n"
      ]
    },
    {
      "cell_type": "code",
      "execution_count": 22,
      "id": "cab0e646",
      "metadata": {},
      "outputs": [
        {
          "name": "stdout",
          "output_type": "stream",
          "text": [
            "Radiohead\n"
          ]
        }
      ],
      "source": [
        "from dotenv import load_dotenv\n",
        "import os\n",
        "from apputil import Genius\n",
        "\n",
        "# Load access token from env file\n",
        "load_dotenv(dotenv_path=\"env-1.env\")\n",
        "access_token = os.getenv(\"ACCESS_TOKEN\")\n",
        "\n",
        "# Create the Genius object\n",
        "genius = Genius(access_token=access_token)\n",
        "\n",
        "# Use the method to get artist information\n",
        "artist_info = genius.get_artist(\"Radiohead\")\n",
        "\n",
        "# Display a readable result\n",
        "print(artist_info[\"response\"][\"artist\"][\"name\"])\n"
      ]
    },
    {
      "cell_type": "markdown",
      "id": "55054b2a",
      "metadata": {},
      "source": [
        "## Exercise 3\n",
        "\n",
        "Use the result from Exercise 2 to create another method for our `Genius` class called `.get_artists(search_terms)` (plural) which takes in a *list* of search terms, and returns a DataFrame containing a row for each search term, and the following columns:\n",
        "\n",
        "- `search_term`: the raw search term from `search_terms`\n",
        "- `artist_name`: the (most likely) artist name for the search term\n",
        "- `artist_id`: the Genius Artist ID for that artist, based on the API call\n",
        "- `followers_count`: the number of followers for that artist (if available)\n",
        "\n",
        "For example, the following should return a DataFrame with 4 rows:\n",
        "\n",
        "```python\n",
        "genius.get_artists(['Rihanna', 'Tycho', 'Seal', 'U2'])\n",
        "```"
      ]
    },
    {
      "cell_type": "code",
      "execution_count": 2,
      "id": "8cdb7296",
      "metadata": {},
      "outputs": [
        {
          "name": "stdout",
          "output_type": "stream",
          "text": [
            "Searching for: Rihanna\n",
            "Searching for: U2\n",
            "[{'search_term': 'Rihanna', 'artist_name': 'Rihanna', 'artist_id': 89, 'followers_count': 5800}, {'search_term': 'U2', 'artist_name': 'U2', 'artist_id': 23895, 'followers_count': 374}]\n"
          ]
        }
      ],
      "source": [
        "import importlib, apputil\n",
        "importlib.reload(apputil)\n",
        "from apputil import Genius\n",
        "from dotenv import load_dotenv\n",
        "import os\n",
        "\n",
        "load_dotenv(dotenv_path=\"env-1.env\")\n",
        "access_token = os.getenv(\"ACCESS_TOKEN\")\n",
        "genius = Genius(access_token)\n",
        "\n",
        "data = genius.get_artists(['Rihanna', 'U2'])\n",
        "print(data)\n",
        "\n"
      ]
    },
    {
      "cell_type": "code",
      "execution_count": 3,
      "id": "05414398",
      "metadata": {},
      "outputs": [
        {
          "name": "stdout",
          "output_type": "stream",
          "text": [
            "Searching for: Rihanna\n",
            "Searching for: Tycho\n",
            "Searching for: Seal\n",
            "Searching for: U2\n"
          ]
        },
        {
          "data": {
            "text/html": [
              "<div>\n",
              "<style scoped>\n",
              "    .dataframe tbody tr th:only-of-type {\n",
              "        vertical-align: middle;\n",
              "    }\n",
              "\n",
              "    .dataframe tbody tr th {\n",
              "        vertical-align: top;\n",
              "    }\n",
              "\n",
              "    .dataframe thead th {\n",
              "        text-align: right;\n",
              "    }\n",
              "</style>\n",
              "<table border=\"1\" class=\"dataframe\">\n",
              "  <thead>\n",
              "    <tr style=\"text-align: right;\">\n",
              "      <th></th>\n",
              "      <th>search_term</th>\n",
              "      <th>artist_name</th>\n",
              "      <th>artist_id</th>\n",
              "      <th>followers_count</th>\n",
              "    </tr>\n",
              "  </thead>\n",
              "  <tbody>\n",
              "    <tr>\n",
              "      <th>0</th>\n",
              "      <td>Rihanna</td>\n",
              "      <td>Rihanna</td>\n",
              "      <td>89</td>\n",
              "      <td>5800</td>\n",
              "    </tr>\n",
              "    <tr>\n",
              "      <th>1</th>\n",
              "      <td>Tycho</td>\n",
              "      <td>Tycho</td>\n",
              "      <td>53336</td>\n",
              "      <td>30</td>\n",
              "    </tr>\n",
              "    <tr>\n",
              "      <th>2</th>\n",
              "      <td>Seal</td>\n",
              "      <td>Lil Uzi Vert</td>\n",
              "      <td>217208</td>\n",
              "      <td>6165</td>\n",
              "    </tr>\n",
              "    <tr>\n",
              "      <th>3</th>\n",
              "      <td>U2</td>\n",
              "      <td>U2</td>\n",
              "      <td>23895</td>\n",
              "      <td>374</td>\n",
              "    </tr>\n",
              "  </tbody>\n",
              "</table>\n",
              "</div>"
            ],
            "text/plain": [
              "  search_term   artist_name  artist_id  followers_count\n",
              "0     Rihanna       Rihanna         89             5800\n",
              "1       Tycho         Tycho      53336               30\n",
              "2        Seal  Lil Uzi Vert     217208             6165\n",
              "3          U2            U2      23895              374"
            ]
          },
          "execution_count": 3,
          "metadata": {},
          "output_type": "execute_result"
        }
      ],
      "source": [
        "import importlib, apputil\n",
        "importlib.reload(apputil)\n",
        "from apputil import Genius\n",
        "from dotenv import load_dotenv\n",
        "import os\n",
        "\n",
        "load_dotenv(dotenv_path=\"env-1.env\")\n",
        "access_token = os.getenv(\"ACCESS_TOKEN\")\n",
        "genius = Genius(access_token)\n",
        "\n",
        "df_artists = genius.get_artists(['Rihanna', 'Tycho', 'Seal', 'U2'])\n",
        "df_artists\n",
        "\n"
      ]
    },
    {
      "cell_type": "markdown",
      "id": "20fd446a",
      "metadata": {},
      "source": [
        "## Bonus Exercise (optional)\n",
        "\n",
        "1. Gather a list of 100+ various musical artists, and save this list in a TXT file.\n",
        "2. Write a Python *script* that saves the result of `.get_artists` for these artists in a CSV file.\n",
        "3. If you have time, adjust this script to use multiprocessing."
      ]
    },
    {
      "cell_type": "code",
      "execution_count": null,
      "id": "1ce0b864",
      "metadata": {},
      "outputs": [],
      "source": []
    }
  ],
  "metadata": {
    "colab": {
      "provenance": []
    },
    "kernelspec": {
      "display_name": "base",
      "language": "python",
      "name": "python3"
    },
    "language_info": {
      "codemirror_mode": {
        "name": "ipython",
        "version": 3
      },
      "file_extension": ".py",
      "mimetype": "text/x-python",
      "name": "python",
      "nbconvert_exporter": "python",
      "pygments_lexer": "ipython3",
      "version": "3.11.13"
    }
  },
  "nbformat": 4,
  "nbformat_minor": 5
}
